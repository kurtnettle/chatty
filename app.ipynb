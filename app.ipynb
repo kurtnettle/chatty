{
 "cells": [
  {
   "cell_type": "code",
   "execution_count": null,
   "metadata": {
    "colab": {
     "base_uri": "https://localhost:8080/"
    },
    "id": "zTY0yiQuS61i",
    "outputId": "0e08dac6-ff9c-4f98-889b-7fc0ac0aea25"
   },
   "outputs": [],
   "source": [
    "!git clone \"https://github.com/kurtnettle/chatty\"\n",
    "%cd chatty"
   ]
  },
  {
   "cell_type": "code",
   "execution_count": null,
   "metadata": {
    "colab": {
     "base_uri": "https://localhost:8080/"
    },
    "id": "FiCkuE8yTC_s",
    "outputId": "280b92a7-91f7-418f-fc43-3a764dda3eee"
   },
   "outputs": [],
   "source": [
    "# Installing necessary deps to run the app\n",
    "\n",
    "!curl -LsSf https://astral.sh/uv/install.sh | sh\n",
    "!npm install localtunnel"
   ]
  },
  {
   "cell_type": "code",
   "execution_count": null,
   "metadata": {
    "id": "EEZnT4bbTJRh"
   },
   "outputs": [],
   "source": [
    "# App needs to be running in bg as we need to start a tunnel (For Google Colab)\n",
    "\n",
    "!uv run invoke run &>/content/logs.txt &"
   ]
  },
  {
   "cell_type": "code",
   "execution_count": null,
   "metadata": {
    "colab": {
     "base_uri": "https://localhost:8080/"
    },
    "id": "WWCSLs18T8X5",
    "outputId": "dec3ed40-924b-4c84-9c7d-0d138669c050"
   },
   "outputs": [],
   "source": [
    "!echo \"Tunnel Password: $(curl -sS https://loca.lt/mytunnelpassword)\"\n",
    "!npx localtunnel --port 8501"
   ]
  }
 ],
 "metadata": {
  "colab": {
   "provenance": []
  },
  "kernelspec": {
   "display_name": "Python 3 (ipykernel)",
   "language": "python",
   "name": "python3"
  },
  "language_info": {
   "codemirror_mode": {
    "name": "ipython",
    "version": 3
   },
   "file_extension": ".py",
   "mimetype": "text/x-python",
   "name": "python",
   "nbconvert_exporter": "python",
   "pygments_lexer": "ipython3",
   "version": "3.12.10"
  }
 },
 "nbformat": 4,
 "nbformat_minor": 4
}
